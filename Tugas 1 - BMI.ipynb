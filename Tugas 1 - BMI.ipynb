{
 "cells": [
  {
   "cell_type": "markdown",
   "metadata": {},
   "source": [
    "## Nama : Badiah Setyowati\n",
    "## TUGAS BMI - DIGITALENT"
   ]
  },
  {
   "cell_type": "code",
   "execution_count": 7,
   "metadata": {},
   "outputs": [
    {
     "name": "stdout",
     "output_type": "stream",
     "text": [
      "BMI =  23.03383630544124 Masuk kategori BMI  Normal (healthy weight)\n",
      "Program Selesai\n"
     ]
    }
   ],
   "source": [
    "# variabel berat badan (kg) dan tinggi badan (cm)\n",
    "berat_badan = 60.45\n",
    "tinggi_badan = 162\n",
    "\n",
    "# convert tinggi badan ke meter\n",
    "tinggi_real = 162/100\n",
    "\n",
    "#perhitungan BMI\n",
    "BMI = berat_badan / (tinggi_real**2) \n",
    "\n",
    "# menentukan berat badan ideal sesuai kategori BMI\n",
    "if BMI<15:\n",
    "    kategori=\"Very severely underweight\"\n",
    "elif BMI>=15 and BMI<16:\n",
    "    kategori=\"Severely underweight\"\n",
    "elif BMI>=16 and BMI<18.5:\n",
    "    kategori=\"Underweight\"\n",
    "elif BMI>=18.5 and BMI<25:\n",
    "    kategori=\"Normal (healthy weight)\"\n",
    "elif BMI>=25 and BMI<30:\n",
    "    kategori=\"Overweight\"\n",
    "elif BMI>=30 and BMI<35:\n",
    "    kategori=\"Moderately obese\"\n",
    "elif BMI>=35 and BMI<40:\n",
    "    kategori=\"Severely obese\"\n",
    "elif BMI>=40: \n",
    "    kategori=\"Very severely obese\"\n",
    "\n",
    "print(\"BMI = \", BMI, \"Masuk kategori BMI \", kategori)\n",
    "print(\"Program Selesai\")"
   ]
  },
  {
   "cell_type": "code",
   "execution_count": null,
   "metadata": {},
   "outputs": [],
   "source": []
  }
 ],
 "metadata": {
  "kernelspec": {
   "display_name": "Python 3",
   "language": "python",
   "name": "python3"
  },
  "language_info": {
   "codemirror_mode": {
    "name": "ipython",
    "version": 3
   },
   "file_extension": ".py",
   "mimetype": "text/x-python",
   "name": "python",
   "nbconvert_exporter": "python",
   "pygments_lexer": "ipython3",
   "version": "3.7.0"
  }
 },
 "nbformat": 4,
 "nbformat_minor": 2
}

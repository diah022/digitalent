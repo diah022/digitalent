{
 "cells": [
  {
   "cell_type": "code",
   "execution_count": 5,
   "metadata": {},
   "outputs": [],
   "source": [
    "## Tugas 2 - List Nilai\n",
    "\n",
    "### Nama: Badiah Setyowati\n",
    "### DIGITALENT BIG DATA - A"
   ]
  },
  {
   "cell_type": "markdown",
   "metadata": {},
   "source": [
    "#### Soal: \n",
    "\n",
    "Diberikan sekumpulan Nilai Random antara 0 sampai dengan 100 sebanyak 250 nilai. Buatlah program untuk melakukan hal berikut:\n",
    "1. Tampilkan Angka Ganjil dari ke 250 nilai tersebut\n",
    "2. Tampilkan berapa banyak yang mendapatkan nilai lebih dari 70\n",
    "3. Tampilkan standar deviasi dari sekumpulan nilai tersebut\n",
    "4. Tampilkan nilai maksimum dan minimum\n",
    "5. Tampilkan modus dari sekumpulan nilai tersebut"
   ]
  },
  {
   "cell_type": "markdown",
   "metadata": {},
   "source": [
    "## Daftar Nilai"
   ]
  },
  {
   "cell_type": "code",
   "execution_count": 40,
   "metadata": {},
   "outputs": [
    {
     "name": "stdout",
     "output_type": "stream",
     "text": [
      "[37, 23, 10, 51, 52, 41, 41, 39, 27, 84, 78, 56, 85, 74, 56, 91, 26, 48, 80, 41, 45, 43, 51, 66, 62, 82, 52, 27, 5, 18, 57, 77, 13, 24, 7, 90, 79, 52, 51, 36, 41, 50, 41, 48, 81, 39, 89, 5, 80, 86, 98, 58, 95, 31, 69, 32, 81, 59, 69, 97, 31, 18, 59, 41, 33, 48, 98, 20, 78, 7, 69, 69, 19, 46, 71, 48, 58, 61, 52, 33, 16, 15, 50, 51, 9, 86, 74, 39, 11, 30, 49, 42, 39, 13, 12, 2, 43, 14, 4, 82, 63, 21, 47, 79, 26, 65, 63, 63, 5, 14, 12, 95, 59, 72, 1, 20, 28, 86, 6, 54, 82, 81, 16, 60, 65, 39, 5, 93, 45, 61, 57, 67, 38, 25, 53, 23, 54, 13, 33, 15, 6, 19, 97, 52, 27, 73, 33, 33, 89, 73, 33, 54, 74, 4, 73, 95, 79, 49, 18, 48, 40, 62, 21, 44, 65, 92, 77, 57, 41, 60, 81, 42, 26, 53, 70, 47, 69, 86, 2, 97, 92, 64, 21, 20, 8, 73, 63, 30, 65, 10, 2, 49, 72, 49, 95, 21, 3, 25, 56, 93, 6, 66, 57, 73, 66, 85, 96, 26, 8, 81, 41, 89, 50, 88, 25, 2, 81, 76, 52, 3, 37, 53, 90, 20, 2, 21, 36, 49, 73, 44, 6, 85, 92, 45, 49, 19, 44, 21, 32, 51, 62, 18, 5, 68, 15, 60, 88, 13, 82, 10]\n"
     ]
    }
   ],
   "source": [
    "import random\n",
    "\n",
    "# GENERATE RANDOM\n",
    "nilaiTugas = []\n",
    "for i in range(250):\n",
    "    nilaiTugas.append(random.randrange(1,100,1))\n",
    "\n",
    "print(nilaiTugas)"
   ]
  },
  {
   "cell_type": "markdown",
   "metadata": {},
   "source": [
    "## Menampilkan Nilai Ganjil"
   ]
  },
  {
   "cell_type": "code",
   "execution_count": 44,
   "metadata": {},
   "outputs": [
    {
     "name": "stdout",
     "output_type": "stream",
     "text": [
      "# NILAI GANJIL\n",
      "[249, 249, 249, 249, 249, 249, 249, 249, 249, 249, 249, 249, 249, 249, 249, 249, 249, 249, 249, 249, 249, 249, 249, 249, 249, 249, 249, 249, 249, 249, 249, 249, 249, 249, 249, 249, 249, 249, 249, 249, 249, 249, 249, 249, 249, 249, 249, 249, 249, 249, 249, 249, 249, 249, 249, 249, 249, 249, 249, 249, 249, 249, 249, 249, 249, 249, 249, 249, 249, 249, 249, 249, 249, 249, 249, 249, 249, 249, 249, 249, 249, 249, 249, 249, 249, 249, 249, 249, 249, 249, 249, 249, 249, 249, 249, 249, 249, 249, 249, 249, 249, 249, 249, 249, 249, 249, 249, 249, 249, 249, 249, 249, 249, 249, 249, 249, 249, 249, 249, 249, 249, 249, 249, 249, 249, 249, 249, 249, 249, 249, 249, 249, 249, 249, 249, 249, 249]\n"
     ]
    }
   ],
   "source": [
    "# TAMPILKAN:\n",
    "# ganjil\n",
    "print(\"# NILAI GANJIL\")\n",
    "ganjil = []\n",
    "for a in nilaiTugas:\n",
    "    \n",
    "    if a % 2 != 0:\n",
    "        ganjil.append(i)\n",
    "print(ganjil)"
   ]
  },
  {
   "cell_type": "markdown",
   "metadata": {},
   "source": [
    "## Mencari Nilai Lebih dari 70"
   ]
  },
  {
   "cell_type": "code",
   "execution_count": 51,
   "metadata": {},
   "outputs": [
    {
     "name": "stdout",
     "output_type": "stream",
     "text": [
      "#NILAI > 70\n",
      "84\n",
      "78\n",
      "85\n",
      "74\n",
      "91\n",
      "80\n",
      "82\n",
      "77\n",
      "90\n",
      "79\n",
      "81\n",
      "89\n",
      "80\n",
      "86\n",
      "98\n",
      "95\n",
      "81\n",
      "97\n",
      "98\n",
      "78\n",
      "71\n",
      "86\n",
      "74\n",
      "82\n",
      "79\n",
      "95\n",
      "72\n",
      "86\n",
      "82\n",
      "81\n",
      "93\n",
      "97\n",
      "73\n",
      "89\n",
      "73\n",
      "74\n",
      "73\n",
      "95\n",
      "79\n",
      "92\n",
      "77\n",
      "81\n",
      "86\n",
      "97\n",
      "92\n",
      "73\n",
      "72\n",
      "95\n",
      "93\n",
      "73\n",
      "85\n",
      "96\n",
      "81\n",
      "89\n",
      "88\n",
      "81\n",
      "76\n",
      "90\n",
      "73\n",
      "85\n",
      "92\n",
      "88\n",
      "82\n",
      "jumlah nilai lebih dari 70 ada 63\n"
     ]
    }
   ],
   "source": [
    "# nilai > 70\n",
    "print(\"#NILAI > 70\")\n",
    "nilai_lebih = []\n",
    "for b in nilaiTugas:\n",
    "    if b>70:\n",
    "        print(b)\n",
    "        nilai_lebih.append(b)\n",
    "print(\"jumlah nilai lebih dari 70 ada\", len(nilai_lebih))"
   ]
  },
  {
   "cell_type": "markdown",
   "metadata": {},
   "source": [
    "## Mencari Standar Deviasi"
   ]
  },
  {
   "cell_type": "code",
   "execution_count": 23,
   "metadata": {},
   "outputs": [
    {
     "name": "stdout",
     "output_type": "stream",
     "text": [
      "Hasil standar deviasi: 28.0887077666453\n"
     ]
    }
   ],
   "source": [
    "# standar deviasi\n",
    "jml = 0\n",
    "for d in range(len(nilaiTugas)):\n",
    "    jml += nilaiTugas[d]\n",
    "\n",
    "rata = jml/len(nilaiTugas)\n",
    "sigma = 0\n",
    "for d in range(len(nilaiTugas)):\n",
    "    hitung = (nilaiTugas[d]-rata)**2\n",
    "    sigma += hitung\n",
    "\n",
    "bagi = sigma/len(nilaiTugas)\n",
    "standarDeviasi = bagi**0.5\n",
    "print(\"Hasil standar deviasi:\", standarDeviasi)"
   ]
  },
  {
   "cell_type": "markdown",
   "metadata": {},
   "source": [
    "## Menentukan Nilai Maksimum"
   ]
  },
  {
   "cell_type": "code",
   "execution_count": 24,
   "metadata": {},
   "outputs": [
    {
     "name": "stdout",
     "output_type": "stream",
     "text": [
      "Nilai maksimum adalah 97\n"
     ]
    }
   ],
   "source": [
    "# maksimum\n",
    "\n",
    "for i in nilaiTugas :\n",
    "    j = i+1\n",
    "    if nilaiTugas[i]>=nilaiTugas[j]:\n",
    "        j=nilaiTugas[i]\n",
    "    else:\n",
    "        temp = nilaiTugas[j]\n",
    "        if nilaiTugas[j]>=temp :\n",
    "            maksimum = nilaiTugas[j]\n",
    "        else:\n",
    "            maksimum = temp\n",
    "print(\"Nilai maksimum adalah\", maksimum)\n"
   ]
  },
  {
   "cell_type": "markdown",
   "metadata": {},
   "source": [
    "## Menentukan Nilai Minimum"
   ]
  },
  {
   "cell_type": "code",
   "execution_count": 20,
   "metadata": {},
   "outputs": [
    {
     "name": "stdout",
     "output_type": "stream",
     "text": [
      "Nilai maksimum adalah 24\n"
     ]
    }
   ],
   "source": [
    "# minimum\n",
    "for i in nilaiTugas :\n",
    "    j = i+1\n",
    "    if nilaiTugas[i]<=nilaiTugas[j]:\n",
    "        j=nilaiTugas[i]\n",
    "    else:\n",
    "        temp = nilaiTugas[j]\n",
    "        if nilaiTugas[j]<=temp :\n",
    "            minimum = nilaiTugas[j]\n",
    "        else:\n",
    "            minimum = temp\n",
    "print(\"Nilai maksimum adalah\", minimum)\n"
   ]
  },
  {
   "cell_type": "markdown",
   "metadata": {},
   "source": [
    "## Menentukan Modus"
   ]
  },
  {
   "cell_type": "code",
   "execution_count": 38,
   "metadata": {},
   "outputs": [
    {
     "name": "stdout",
     "output_type": "stream",
     "text": [
      "Nilai Modus: 24\n"
     ]
    }
   ],
   "source": [
    "# modus\n",
    "x= {}\n",
    "modus = \" \"\n",
    "for i in nilaiTugas:\n",
    "    if i in x:\n",
    "        x[i]+= 1\n",
    "    else:\n",
    "        x[i] = 1\n",
    "        \n",
    "maks =  0 \n",
    "for i in x:\n",
    "    if x[i]> maks:\n",
    "        maks = x[i]\n",
    "        modus = i\n",
    "\n",
    "print ('Nilai Modus:', modus)"
   ]
  }
 ],
 "metadata": {
  "kernelspec": {
   "display_name": "Python 3",
   "language": "python",
   "name": "python3"
  },
  "language_info": {
   "codemirror_mode": {
    "name": "ipython",
    "version": 3
   },
   "file_extension": ".py",
   "mimetype": "text/x-python",
   "name": "python",
   "nbconvert_exporter": "python",
   "pygments_lexer": "ipython3",
   "version": "3.7.0"
  }
 },
 "nbformat": 4,
 "nbformat_minor": 2
}

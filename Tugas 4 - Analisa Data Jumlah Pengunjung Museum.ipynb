{
 "cells": [
  {
   "cell_type": "markdown",
   "metadata": {},
   "source": [
    "## Tugas 4 - Analisa Data Jumlah Pengunjung Museum\n",
    "\n",
    "#### Nama: Badiah Setyowati\n",
    "#### Digitalent - Big Data A"
   ]
  },
  {
   "cell_type": "code",
   "execution_count": 12,
   "metadata": {
    "scrolled": false
   },
   "outputs": [
    {
     "data": {
      "text/html": [
       "<div>\n",
       "<style scoped>\n",
       "    .dataframe tbody tr th:only-of-type {\n",
       "        vertical-align: middle;\n",
       "    }\n",
       "\n",
       "    .dataframe tbody tr th {\n",
       "        vertical-align: top;\n",
       "    }\n",
       "\n",
       "    .dataframe thead th {\n",
       "        text-align: right;\n",
       "    }\n",
       "</style>\n",
       "<table border=\"1\" class=\"dataframe\">\n",
       "  <thead>\n",
       "    <tr style=\"text-align: right;\">\n",
       "      <th></th>\n",
       "      <th>tahun</th>\n",
       "      <th>nama_museum</th>\n",
       "      <th>jumlah_pengunjung</th>\n",
       "    </tr>\n",
       "  </thead>\n",
       "  <tbody>\n",
       "    <tr>\n",
       "      <th>0</th>\n",
       "      <td>2010</td>\n",
       "      <td>Monumen Nasional</td>\n",
       "      <td>1253266</td>\n",
       "    </tr>\n",
       "    <tr>\n",
       "      <th>1</th>\n",
       "      <td>2010</td>\n",
       "      <td>Sejarah Jakarta dan Prasasti</td>\n",
       "      <td>724082</td>\n",
       "    </tr>\n",
       "    <tr>\n",
       "      <th>2</th>\n",
       "      <td>2010</td>\n",
       "      <td>Bahari</td>\n",
       "      <td>6327</td>\n",
       "    </tr>\n",
       "    <tr>\n",
       "      <th>3</th>\n",
       "      <td>2010</td>\n",
       "      <td>Wayang</td>\n",
       "      <td>164696</td>\n",
       "    </tr>\n",
       "    <tr>\n",
       "      <th>4</th>\n",
       "      <td>2010</td>\n",
       "      <td>Tekstil</td>\n",
       "      <td>43107</td>\n",
       "    </tr>\n",
       "    <tr>\n",
       "      <th>5</th>\n",
       "      <td>2010</td>\n",
       "      <td>Seni Rupa dan Keramik</td>\n",
       "      <td>76713</td>\n",
       "    </tr>\n",
       "    <tr>\n",
       "      <th>6</th>\n",
       "      <td>2010</td>\n",
       "      <td>Joang'45 dan M.H Thamrin</td>\n",
       "      <td>17504</td>\n",
       "    </tr>\n",
       "    <tr>\n",
       "      <th>7</th>\n",
       "      <td>2010</td>\n",
       "      <td>Taman Arkeologi Pulau Onrust</td>\n",
       "      <td>19443</td>\n",
       "    </tr>\n",
       "    <tr>\n",
       "      <th>8</th>\n",
       "      <td>2011</td>\n",
       "      <td>Monumen Nasional</td>\n",
       "      <td>1516153</td>\n",
       "    </tr>\n",
       "    <tr>\n",
       "      <th>9</th>\n",
       "      <td>2011</td>\n",
       "      <td>Sejarah Jakarta dan Prasasti</td>\n",
       "      <td>437040</td>\n",
       "    </tr>\n",
       "    <tr>\n",
       "      <th>10</th>\n",
       "      <td>2011</td>\n",
       "      <td>Bahari</td>\n",
       "      <td>24076</td>\n",
       "    </tr>\n",
       "    <tr>\n",
       "      <th>11</th>\n",
       "      <td>2011</td>\n",
       "      <td>Wayang</td>\n",
       "      <td>202489</td>\n",
       "    </tr>\n",
       "    <tr>\n",
       "      <th>12</th>\n",
       "      <td>2011</td>\n",
       "      <td>Tekstil</td>\n",
       "      <td>53485</td>\n",
       "    </tr>\n",
       "    <tr>\n",
       "      <th>13</th>\n",
       "      <td>2011</td>\n",
       "      <td>Seni Rupa dan Keramik</td>\n",
       "      <td>35966</td>\n",
       "    </tr>\n",
       "    <tr>\n",
       "      <th>14</th>\n",
       "      <td>2011</td>\n",
       "      <td>Joang'45 dan M.H Thamrin</td>\n",
       "      <td>18370</td>\n",
       "    </tr>\n",
       "    <tr>\n",
       "      <th>15</th>\n",
       "      <td>2011</td>\n",
       "      <td>Taman Arkeologi Pulau Onrust</td>\n",
       "      <td>15596</td>\n",
       "    </tr>\n",
       "  </tbody>\n",
       "</table>\n",
       "</div>"
      ],
      "text/plain": [
       "    tahun                   nama_museum  jumlah_pengunjung\n",
       "0    2010              Monumen Nasional            1253266\n",
       "1    2010  Sejarah Jakarta dan Prasasti             724082\n",
       "2    2010                        Bahari               6327\n",
       "3    2010                        Wayang             164696\n",
       "4    2010                       Tekstil              43107\n",
       "5    2010         Seni Rupa dan Keramik              76713\n",
       "6    2010      Joang'45 dan M.H Thamrin              17504\n",
       "7    2010  Taman Arkeologi Pulau Onrust              19443\n",
       "8    2011              Monumen Nasional            1516153\n",
       "9    2011  Sejarah Jakarta dan Prasasti             437040\n",
       "10   2011                        Bahari              24076\n",
       "11   2011                        Wayang             202489\n",
       "12   2011                       Tekstil              53485\n",
       "13   2011         Seni Rupa dan Keramik              35966\n",
       "14   2011      Joang'45 dan M.H Thamrin              18370\n",
       "15   2011  Taman Arkeologi Pulau Onrust              15596"
      ]
     },
     "execution_count": 12,
     "metadata": {},
     "output_type": "execute_result"
    }
   ],
   "source": [
    "import pandas as pd\n",
    "\n",
    "#ambil data dari csv\n",
    "data_museum = pd.read_csv('jumlahpengunjungmuseummenurutjenismuseum20102011.csv', delimiter = ',', encoding = \"ISO-8859-1\")\n",
    "\n",
    "data_museum"
   ]
  },
  {
   "cell_type": "markdown",
   "metadata": {},
   "source": [
    "### Deskripsi Data\n",
    "\n",
    "Jumlah pengunjung museum di Jakarta, dikelompokkan berdasarkan tiap jenis museum. Pendataan dilakukan dalam rentang waktu 2 tahun yaitu tahun 2010 - 2011. Hasil yang didapat diletakkan pada kolom jumlah_pengunjung"
   ]
  },
  {
   "cell_type": "markdown",
   "metadata": {},
   "source": [
    "### Statistik Data"
   ]
  },
  {
   "cell_type": "code",
   "execution_count": 13,
   "metadata": {},
   "outputs": [
    {
     "data": {
      "text/plain": [
       "tahun                16\n",
       "nama_museum          16\n",
       "jumlah_pengunjung    16\n",
       "dtype: int64"
      ]
     },
     "execution_count": 13,
     "metadata": {},
     "output_type": "execute_result"
    }
   ],
   "source": [
    "data_museum.count()"
   ]
  },
  {
   "cell_type": "code",
   "execution_count": 15,
   "metadata": {},
   "outputs": [
    {
     "name": "stdout",
     "output_type": "stream",
     "text": [
      "sum: 4608313 minimal: 6327 maksimal: 1516153\n"
     ]
    }
   ],
   "source": [
    "s = data_museum.jumlah_pengunjung.sum()\n",
    "mi = data_museum.jumlah_pengunjung.min()\n",
    "ma = data_museum.jumlah_pengunjung.max()\n",
    "\n",
    "print(\"sum:\",s,\"minimal:\",mi,\"maksimal:\",ma)"
   ]
  },
  {
   "cell_type": "code",
   "execution_count": 32,
   "metadata": {},
   "outputs": [],
   "source": [
    "me = data_museum.mean()\n",
    "md = data_museum.median()"
   ]
  },
  {
   "cell_type": "code",
   "execution_count": 33,
   "metadata": {},
   "outputs": [
    {
     "name": "stdout",
     "output_type": "stream",
     "text": [
      "MEAN:\n",
      "tahun                  2010.5000\n",
      "jumlah_pengunjung    288019.5625\n",
      "dtype: float64\n"
     ]
    }
   ],
   "source": [
    "print(\"MEAN:\")\n",
    "print(me)"
   ]
  },
  {
   "cell_type": "code",
   "execution_count": 34,
   "metadata": {},
   "outputs": [
    {
     "name": "stdout",
     "output_type": "stream",
     "text": [
      "MEDIAN:\n",
      "tahun                 2010.5\n",
      "jumlah_pengunjung    48296.0\n",
      "dtype: float64\n"
     ]
    }
   ],
   "source": [
    "print(\"MEDIAN:\")\n",
    "print(md)"
   ]
  },
  {
   "cell_type": "code",
   "execution_count": 21,
   "metadata": {},
   "outputs": [
    {
     "data": {
      "text/plain": [
       "Index(['tahun', 'nama_museum', 'jumlah_pengunjung'], dtype='object')"
      ]
     },
     "execution_count": 21,
     "metadata": {},
     "output_type": "execute_result"
    }
   ],
   "source": [
    "data_museum.columns"
   ]
  },
  {
   "cell_type": "code",
   "execution_count": 35,
   "metadata": {},
   "outputs": [
    {
     "data": {
      "text/html": [
       "<div>\n",
       "<style scoped>\n",
       "    .dataframe tbody tr th:only-of-type {\n",
       "        vertical-align: middle;\n",
       "    }\n",
       "\n",
       "    .dataframe tbody tr th {\n",
       "        vertical-align: top;\n",
       "    }\n",
       "\n",
       "    .dataframe thead th {\n",
       "        text-align: right;\n",
       "    }\n",
       "</style>\n",
       "<table border=\"1\" class=\"dataframe\">\n",
       "  <thead>\n",
       "    <tr style=\"text-align: right;\">\n",
       "      <th></th>\n",
       "      <th>tahun</th>\n",
       "      <th>jumlah_pengunjung</th>\n",
       "    </tr>\n",
       "    <tr>\n",
       "      <th>nama_museum</th>\n",
       "      <th></th>\n",
       "      <th></th>\n",
       "    </tr>\n",
       "  </thead>\n",
       "  <tbody>\n",
       "    <tr>\n",
       "      <th>Bahari</th>\n",
       "      <td>2010.5</td>\n",
       "      <td>15201.5</td>\n",
       "    </tr>\n",
       "    <tr>\n",
       "      <th>Joang'45 dan M.H Thamrin</th>\n",
       "      <td>2010.5</td>\n",
       "      <td>17937.0</td>\n",
       "    </tr>\n",
       "    <tr>\n",
       "      <th>Monumen Nasional</th>\n",
       "      <td>2010.5</td>\n",
       "      <td>1384709.5</td>\n",
       "    </tr>\n",
       "    <tr>\n",
       "      <th>Sejarah Jakarta dan Prasasti</th>\n",
       "      <td>2010.5</td>\n",
       "      <td>580561.0</td>\n",
       "    </tr>\n",
       "    <tr>\n",
       "      <th>Seni Rupa dan Keramik</th>\n",
       "      <td>2010.5</td>\n",
       "      <td>56339.5</td>\n",
       "    </tr>\n",
       "    <tr>\n",
       "      <th>Taman Arkeologi Pulau Onrust</th>\n",
       "      <td>2010.5</td>\n",
       "      <td>17519.5</td>\n",
       "    </tr>\n",
       "    <tr>\n",
       "      <th>Tekstil</th>\n",
       "      <td>2010.5</td>\n",
       "      <td>48296.0</td>\n",
       "    </tr>\n",
       "    <tr>\n",
       "      <th>Wayang</th>\n",
       "      <td>2010.5</td>\n",
       "      <td>183592.5</td>\n",
       "    </tr>\n",
       "  </tbody>\n",
       "</table>\n",
       "</div>"
      ],
      "text/plain": [
       "                               tahun  jumlah_pengunjung\n",
       "nama_museum                                            \n",
       "Bahari                        2010.5            15201.5\n",
       "Joang'45 dan M.H Thamrin      2010.5            17937.0\n",
       "Monumen Nasional              2010.5          1384709.5\n",
       "Sejarah Jakarta dan Prasasti  2010.5           580561.0\n",
       "Seni Rupa dan Keramik         2010.5            56339.5\n",
       "Taman Arkeologi Pulau Onrust  2010.5            17519.5\n",
       "Tekstil                       2010.5            48296.0\n",
       "Wayang                        2010.5           183592.5"
      ]
     },
     "execution_count": 35,
     "metadata": {},
     "output_type": "execute_result"
    }
   ],
   "source": [
    "data_museum.groupby('nama_museum').mean()"
   ]
  },
  {
   "cell_type": "markdown",
   "metadata": {},
   "source": [
    "### Visualisasi Sederhana"
   ]
  },
  {
   "cell_type": "code",
   "execution_count": 40,
   "metadata": {},
   "outputs": [
    {
     "data": {
      "text/plain": [
       "Text(0,0.5,'Jumlah Pengunjung')"
      ]
     },
     "execution_count": 40,
     "metadata": {},
     "output_type": "execute_result"
    },
    {
     "data": {
      "image/png": "[encoded data removed]",
      "text/plain": [
       "<Figure size 432x288 with 1 Axes>"
      ]
     },
     "metadata": {
      "needs_background": "light"
     },
     "output_type": "display_data"
    }
   ],
   "source": [
    "ax = data_museum.groupby(('nama_museum')).mean()['jumlah_pengunjung']\n",
    "ax = ax.plot(kind='bar', title =\"Rata-Rata Berdasarkan Tahun\", legend=True, fontsize=12)\n",
    "ax.set_xlabel(\"Tahun\", fontsize=12)\n",
    "ax.set_ylabel(\"Jumlah Pengunjung\", fontsize=12)"
   ]
  },
  {
   "cell_type": "markdown",
   "metadata": {},
   "source": [
    "### Narasi Analisis"
   ]
  },
  {
   "cell_type": "markdown",
   "metadata": {},
   "source": [
    "##### Dari data jumlah pengunjung museum di DKI Jakarta pada tahun 2010-2011, didapatkan hasil: \n",
    "- Monumen Nasional paling banyak dikunjungi dengan rata-rata jumlah pengunjung pada tahun 2010 dan 2011 hampir mencapai 1.400.000 pengunjung. \n",
    "- Bahari paling sedikit peminatnya karena rata-rata pengunjung pada tahun 2010 - 2011 kurang dari 200.000. \n",
    "- Faktor Monumen Nasional menjadi sasaran utama wisata museum di DKI Jakara karena merupakan ikon Indonesia dan Jakarta, serta lebih mudah dijangkau dan terawat. \n",
    "- Beberapa museum yang sedikit peminatnya, dikarenakan banyak hal, seperti infrastruktur, pemasaran dan pengenalan ke masyarakat. \n",
    "- Agar lebih merata kunjungan ke museum di DKI Jakarta, dari segi iklan, infrastruktur pun ditingkatkan"
   ]
  }
 ],
 "metadata": {
  "kernelspec": {
   "display_name": "Python 3",
   "language": "python",
   "name": "python3"
  },
  "language_info": {
   "codemirror_mode": {
    "name": "ipython",
    "version": 3
   },
   "file_extension": ".py",
   "mimetype": "text/x-python",
   "name": "python",
   "nbconvert_exporter": "python",
   "pygments_lexer": "ipython3",
   "version": "3.7.0"
  }
 },
 "nbformat": 4,
 "nbformat_minor": 2
}
